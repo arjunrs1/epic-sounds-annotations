{
 "cells": [
  {
   "cell_type": "code",
   "execution_count": 1,
   "metadata": {
    "tags": []
   },
   "outputs": [],
   "source": [
    "import numpy as np\n",
    "import os\n",
    "import pickle\n",
    "import pandas as pd\n",
    "from scipy.special import softmax"
   ]
  },
  {
   "cell_type": "code",
   "execution_count": 2,
   "metadata": {
    "tags": []
   },
   "outputs": [],
   "source": [
    "output_dir = \"../../../epic-sounds-annotations/src/outputs\"\n",
    "mode = \"val\" #options: {val, test} NOTE: test cannot be analyzed as we don't have GT - it is for the EPIC-KITCHENS challenge.\n",
    "if mode == \"test\":\n",
    "    output_file = \"scores/EPIC_Sounds_recognition_test_timestamps.pkl\"\n",
    "else:\n",
    "     output_file = \"scores/EPIC_Sounds_validation.pkl\"\n",
    "val_annotations_file = \"../../../epic-sounds-annotations/EPIC_Sounds_validation.pkl\""
   ]
  },
  {
   "cell_type": "code",
   "execution_count": 3,
   "metadata": {
    "tags": []
   },
   "outputs": [],
   "source": [
    "with open(os.path.join(output_dir, mode, output_file), 'rb') as f:\n",
    "    pred_annotations = pickle.load(f)"
   ]
  },
  {
   "cell_type": "code",
   "execution_count": 4,
   "metadata": {
    "tags": []
   },
   "outputs": [],
   "source": [
    "val_annotations = pd.read_pickle(val_annotations_file)"
   ]
  },
  {
   "cell_type": "code",
   "execution_count": 5,
   "metadata": {},
   "outputs": [
    {
     "data": {
      "text/plain": [
       "(8035, 44)"
      ]
     },
     "execution_count": 5,
     "metadata": {},
     "output_type": "execute_result"
    }
   ],
   "source": [
    "pred_annotations['interaction_output'].shape"
   ]
  },
  {
   "cell_type": "code",
   "execution_count": 5,
   "metadata": {},
   "outputs": [
    {
     "data": {
      "text/html": [
       "<div>\n",
       "<style scoped>\n",
       "    .dataframe tbody tr th:only-of-type {\n",
       "        vertical-align: middle;\n",
       "    }\n",
       "\n",
       "    .dataframe tbody tr th {\n",
       "        vertical-align: top;\n",
       "    }\n",
       "\n",
       "    .dataframe thead th {\n",
       "        text-align: right;\n",
       "    }\n",
       "</style>\n",
       "<table border=\"1\" class=\"dataframe\">\n",
       "  <thead>\n",
       "    <tr style=\"text-align: right;\">\n",
       "      <th></th>\n",
       "      <th>annotation_id</th>\n",
       "      <th>participant_id</th>\n",
       "      <th>video_id</th>\n",
       "      <th>start_timestamp</th>\n",
       "      <th>stop_timestamp</th>\n",
       "      <th>start_sample</th>\n",
       "      <th>stop_sample</th>\n",
       "      <th>description</th>\n",
       "      <th>class</th>\n",
       "      <th>class_id</th>\n",
       "    </tr>\n",
       "  </thead>\n",
       "  <tbody>\n",
       "    <tr>\n",
       "      <th>0</th>\n",
       "      <td>P01_11_0</td>\n",
       "      <td>P01</td>\n",
       "      <td>P01_11</td>\n",
       "      <td>00:00:02.069</td>\n",
       "      <td>00:00:02.993</td>\n",
       "      <td>49656</td>\n",
       "      <td>71832</td>\n",
       "      <td>clang / clatter</td>\n",
       "      <td>ceramic / wood collision</td>\n",
       "      <td>34</td>\n",
       "    </tr>\n",
       "    <tr>\n",
       "      <th>1</th>\n",
       "      <td>P01_11_1</td>\n",
       "      <td>P01</td>\n",
       "      <td>P01_11</td>\n",
       "      <td>00:00:03.065</td>\n",
       "      <td>00:00:14.447</td>\n",
       "      <td>73560</td>\n",
       "      <td>346728</td>\n",
       "      <td>paper rustle</td>\n",
       "      <td>rustle</td>\n",
       "      <td>4</td>\n",
       "    </tr>\n",
       "    <tr>\n",
       "      <th>2</th>\n",
       "      <td>P01_11_2</td>\n",
       "      <td>P01</td>\n",
       "      <td>P01_11</td>\n",
       "      <td>00:00:16.706</td>\n",
       "      <td>00:00:32.406</td>\n",
       "      <td>400944</td>\n",
       "      <td>777744</td>\n",
       "      <td>paper rustle</td>\n",
       "      <td>rustle</td>\n",
       "      <td>4</td>\n",
       "    </tr>\n",
       "    <tr>\n",
       "      <th>3</th>\n",
       "      <td>P01_11_3</td>\n",
       "      <td>P01</td>\n",
       "      <td>P01_11</td>\n",
       "      <td>00:00:21.163</td>\n",
       "      <td>00:00:21.783</td>\n",
       "      <td>507912</td>\n",
       "      <td>522792</td>\n",
       "      <td>sniffle</td>\n",
       "      <td>human</td>\n",
       "      <td>24</td>\n",
       "    </tr>\n",
       "    <tr>\n",
       "      <th>4</th>\n",
       "      <td>P01_11_4</td>\n",
       "      <td>P01</td>\n",
       "      <td>P01_11</td>\n",
       "      <td>00:00:33.533</td>\n",
       "      <td>00:00:33.993</td>\n",
       "      <td>804792</td>\n",
       "      <td>815832</td>\n",
       "      <td>sniffle</td>\n",
       "      <td>human</td>\n",
       "      <td>24</td>\n",
       "    </tr>\n",
       "    <tr>\n",
       "      <th>...</th>\n",
       "      <td>...</td>\n",
       "      <td>...</td>\n",
       "      <td>...</td>\n",
       "      <td>...</td>\n",
       "      <td>...</td>\n",
       "      <td>...</td>\n",
       "      <td>...</td>\n",
       "      <td>...</td>\n",
       "      <td>...</td>\n",
       "      <td>...</td>\n",
       "    </tr>\n",
       "    <tr>\n",
       "      <th>8030</th>\n",
       "      <td>P32_10_73</td>\n",
       "      <td>P32</td>\n",
       "      <td>P32_10</td>\n",
       "      <td>00:05:47.605</td>\n",
       "      <td>00:05:48.385</td>\n",
       "      <td>8342520</td>\n",
       "      <td>8361240</td>\n",
       "      <td>open / close drawer</td>\n",
       "      <td>open / close</td>\n",
       "      <td>3</td>\n",
       "    </tr>\n",
       "    <tr>\n",
       "      <th>8031</th>\n",
       "      <td>P32_10_74</td>\n",
       "      <td>P32</td>\n",
       "      <td>P32_10</td>\n",
       "      <td>00:06:00.811</td>\n",
       "      <td>00:06:10.633</td>\n",
       "      <td>8659464</td>\n",
       "      <td>8895192</td>\n",
       "      <td>tap running</td>\n",
       "      <td>water</td>\n",
       "      <td>5</td>\n",
       "    </tr>\n",
       "    <tr>\n",
       "      <th>8032</th>\n",
       "      <td>P32_10_75</td>\n",
       "      <td>P32</td>\n",
       "      <td>P32_10</td>\n",
       "      <td>00:06:17.792</td>\n",
       "      <td>00:06:22.906</td>\n",
       "      <td>9067008</td>\n",
       "      <td>9189744</td>\n",
       "      <td>scrub / scrape / scour / wipe</td>\n",
       "      <td>water</td>\n",
       "      <td>5</td>\n",
       "    </tr>\n",
       "    <tr>\n",
       "      <th>8033</th>\n",
       "      <td>P32_10_76</td>\n",
       "      <td>P32</td>\n",
       "      <td>P32_10</td>\n",
       "      <td>00:06:34.734</td>\n",
       "      <td>00:06:35.534</td>\n",
       "      <td>9473616</td>\n",
       "      <td>9492816</td>\n",
       "      <td>open / close drawer</td>\n",
       "      <td>open / close</td>\n",
       "      <td>3</td>\n",
       "    </tr>\n",
       "    <tr>\n",
       "      <th>8034</th>\n",
       "      <td>P32_10_77</td>\n",
       "      <td>P32</td>\n",
       "      <td>P32_10</td>\n",
       "      <td>00:06:36.984</td>\n",
       "      <td>00:06:37.484</td>\n",
       "      <td>9527616</td>\n",
       "      <td>9539616</td>\n",
       "      <td>open / close drawer</td>\n",
       "      <td>open / close</td>\n",
       "      <td>3</td>\n",
       "    </tr>\n",
       "  </tbody>\n",
       "</table>\n",
       "<p>8035 rows × 10 columns</p>\n",
       "</div>"
      ],
      "text/plain": [
       "     annotation_id participant_id video_id start_timestamp stop_timestamp  \\\n",
       "0         P01_11_0            P01   P01_11    00:00:02.069   00:00:02.993   \n",
       "1         P01_11_1            P01   P01_11    00:00:03.065   00:00:14.447   \n",
       "2         P01_11_2            P01   P01_11    00:00:16.706   00:00:32.406   \n",
       "3         P01_11_3            P01   P01_11    00:00:21.163   00:00:21.783   \n",
       "4         P01_11_4            P01   P01_11    00:00:33.533   00:00:33.993   \n",
       "...            ...            ...      ...             ...            ...   \n",
       "8030     P32_10_73            P32   P32_10    00:05:47.605   00:05:48.385   \n",
       "8031     P32_10_74            P32   P32_10    00:06:00.811   00:06:10.633   \n",
       "8032     P32_10_75            P32   P32_10    00:06:17.792   00:06:22.906   \n",
       "8033     P32_10_76            P32   P32_10    00:06:34.734   00:06:35.534   \n",
       "8034     P32_10_77            P32   P32_10    00:06:36.984   00:06:37.484   \n",
       "\n",
       "      start_sample  stop_sample                    description  \\\n",
       "0            49656        71832                clang / clatter   \n",
       "1            73560       346728                   paper rustle   \n",
       "2           400944       777744                   paper rustle   \n",
       "3           507912       522792                        sniffle   \n",
       "4           804792       815832                        sniffle   \n",
       "...            ...          ...                            ...   \n",
       "8030       8342520      8361240            open / close drawer   \n",
       "8031       8659464      8895192                    tap running   \n",
       "8032       9067008      9189744  scrub / scrape / scour / wipe   \n",
       "8033       9473616      9492816            open / close drawer   \n",
       "8034       9527616      9539616            open / close drawer   \n",
       "\n",
       "                         class  class_id  \n",
       "0     ceramic / wood collision        34  \n",
       "1                       rustle         4  \n",
       "2                       rustle         4  \n",
       "3                        human        24  \n",
       "4                        human        24  \n",
       "...                        ...       ...  \n",
       "8030              open / close         3  \n",
       "8031                     water         5  \n",
       "8032                     water         5  \n",
       "8033              open / close         3  \n",
       "8034              open / close         3  \n",
       "\n",
       "[8035 rows x 10 columns]"
      ]
     },
     "execution_count": 5,
     "metadata": {},
     "output_type": "execute_result"
    }
   ],
   "source": [
    "val_annotations"
   ]
  },
  {
   "cell_type": "code",
   "execution_count": 8,
   "metadata": {
    "tags": []
   },
   "outputs": [],
   "source": [
    "probabilities = softmax(pred_annotations['interaction_output'], axis=1)\n",
    "\n",
    "# Get the indices of the top 5 predictions for each sample\n",
    "top5_predicted_classes = np.argsort(-probabilities, axis=1)[:, :5]\n",
    "\n",
    "# Predicted classes (top-1)\n",
    "predicted_classes = top5_predicted_classes[:, 0]\n",
    "\n",
    "# Create a DataFrame with predictions\n",
    "df_predictions = pd.DataFrame({\n",
    "    'annotation_id': pred_annotations['annotation_id'],\n",
    "    'pred_class': predicted_classes,\n",
    "    'top5_classes': list(top5_predicted_classes)\n",
    "})\n",
    "\n",
    "# Merge with ground truth annotations\n",
    "merged_df = pd.merge(df_predictions, val_annotations[['annotation_id', 'class_id']], on='annotation_id')\n",
    "\n",
    "# Compute top-1 accuracy\n",
    "top1_accuracy = np.mean(merged_df['pred_class'] == merged_df['class_id'])\n",
    "\n",
    "# Compute top-5 accuracy\n",
    "top5_accuracy = merged_df.apply(lambda row: row['class_id'] in row['top5_classes'], axis=1).mean()"
   ]
  },
  {
   "cell_type": "code",
   "execution_count": 9,
   "metadata": {
    "tags": []
   },
   "outputs": [
    {
     "data": {
      "text/plain": [
       "0.8446795270690728"
      ]
     },
     "execution_count": 9,
     "metadata": {},
     "output_type": "execute_result"
    }
   ],
   "source": [
    "top5_accuracy"
   ]
  },
  {
   "cell_type": "code",
   "execution_count": 10,
   "metadata": {},
   "outputs": [
    {
     "data": {
      "text/plain": [
       "0.5373988799004356"
      ]
     },
     "execution_count": 10,
     "metadata": {},
     "output_type": "execute_result"
    }
   ],
   "source": [
    "top1_accuracy"
   ]
  }
 ],
 "metadata": {
  "kernelspec": {
   "display_name": "Python 3",
   "language": "python",
   "name": "python3"
  },
  "language_info": {
   "codemirror_mode": {
    "name": "ipython",
    "version": 3
   },
   "file_extension": ".py",
   "mimetype": "text/x-python",
   "name": "python",
   "nbconvert_exporter": "python",
   "pygments_lexer": "ipython3",
   "version": "3.9.19"
  }
 },
 "nbformat": 4,
 "nbformat_minor": 4
}
