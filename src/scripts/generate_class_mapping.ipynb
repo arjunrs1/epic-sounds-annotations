{
 "cells": [
  {
   "cell_type": "code",
   "execution_count": 8,
   "metadata": {},
   "outputs": [
    {
     "data": {
      "text/plain": [
       "[(34, ('ceramic / wood collision', 'put object on surface')),\n",
       " (4, ('rustle', 'paper rustle')),\n",
       " (24, ('human', 'unlabelled')),\n",
       " (0, ('metal-only collision', 'clang / clatter')),\n",
       " (10, ('metal / wood collision', 'clang / clatter'))]"
      ]
     },
     "execution_count": 8,
     "metadata": {},
     "output_type": "execute_result"
    }
   ],
   "source": [
    "import pandas as pd\n",
    "import pickle\n",
    "\n",
    "# Load the CSV files\n",
    "validation_data = pd.read_csv('/vision/asomaya1/epic-sounds-annotations/EPIC_Sounds_validation.csv')\n",
    "train_data = pd.read_csv('/vision/asomaya1/epic-sounds-annotations/EPIC_Sounds_train.csv')\n",
    "\n",
    "# Combine the dataframes to ensure we capture all unique class_id, class, description combinations\n",
    "combined_data = pd.concat([validation_data, train_data], ignore_index=True)\n",
    "\n",
    "# Create the mapping from class_id to (class, description)\n",
    "class_mapping = {row['class_id']: (row['class'], row['description']) for index, row in combined_data.iterrows()}\n",
    "\n",
    "# Display a sample of the mapping to verify\n",
    "list(class_mapping.items())[:5]"
   ]
  },
  {
   "cell_type": "code",
   "execution_count": 9,
   "metadata": {},
   "outputs": [],
   "source": [
    "with open('/vision/asomaya1/epic-sounds-annotations/annotation_mapping.pkl', 'wb') as handle:\n",
    "    pickle.dump(class_mapping, handle)"
   ]
  }
 ],
 "metadata": {
  "kernelspec": {
   "display_name": "Python 3",
   "language": "python",
   "name": "python3"
  },
  "language_info": {
   "codemirror_mode": {
    "name": "ipython",
    "version": 3
   },
   "file_extension": ".py",
   "mimetype": "text/x-python",
   "name": "python",
   "nbconvert_exporter": "python",
   "pygments_lexer": "ipython3",
   "version": "3.9.19"
  }
 },
 "nbformat": 4,
 "nbformat_minor": 2
}
